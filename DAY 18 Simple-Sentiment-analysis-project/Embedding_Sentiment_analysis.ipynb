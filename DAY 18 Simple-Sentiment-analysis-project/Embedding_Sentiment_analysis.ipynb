{
 "cells": [
  {
   "cell_type": "code",
   "execution_count": 134,
   "id": "0dd3ef0d-c832-44ab-826a-cb799577c670",
   "metadata": {},
   "outputs": [],
   "source": [
    "docs = ['go india',\n",
    "\t\t'india india',\n",
    "\t\t'hip hip hurray',\n",
    "\t\t'jeetega bhai jeetega india jeetega',\n",
    "\t\t'bharat mata ki jai',\n",
    "\t\t'kohli kohli',\n",
    "\t\t'sachin sachin',\n",
    "\t\t'dhoni dhoni',\n",
    "\t\t'modi ji ki jai',\n",
    "\t\t'inquilab zindabad']"
   ]
  },
  {
   "cell_type": "code",
   "execution_count": 135,
   "id": "0d4f21d4-826c-4aa4-875f-b5121e9a715f",
   "metadata": {},
   "outputs": [],
   "source": [
    "from keras.preprocessing.text import Tokenizer\n",
    "tokenizer = Tokenizer()"
   ]
  },
  {
   "cell_type": "code",
   "execution_count": 136,
   "id": "a83e0957-2688-4e84-8304-7cb07f227489",
   "metadata": {},
   "outputs": [],
   "source": [
    "tokenizer.fit_on_texts(docs)"
   ]
  },
  {
   "cell_type": "code",
   "execution_count": 137,
   "id": "7419f441-763e-426f-9078-2c88ae92999f",
   "metadata": {},
   "outputs": [
    {
     "data": {
      "text/plain": [
       "17"
      ]
     },
     "execution_count": 137,
     "metadata": {},
     "output_type": "execute_result"
    }
   ],
   "source": [
    "len(tokenizer.word_index)"
   ]
  },
  {
   "cell_type": "code",
   "execution_count": 138,
   "id": "ed891c27-4fae-4157-9bda-d80e351da352",
   "metadata": {},
   "outputs": [
    {
     "data": {
      "text/plain": [
       "[[9, 1],\n",
       " [1, 1],\n",
       " [3, 3, 10],\n",
       " [2, 11, 2, 1, 2],\n",
       " [12, 13, 4, 5],\n",
       " [6, 6],\n",
       " [7, 7],\n",
       " [8, 8],\n",
       " [14, 15, 4, 5],\n",
       " [16, 17]]"
      ]
     },
     "execution_count": 138,
     "metadata": {},
     "output_type": "execute_result"
    }
   ],
   "source": [
    "sequences = tokenizer.texts_to_sequences(docs)\n",
    "sequences"
   ]
  },
  {
   "cell_type": "code",
   "execution_count": 139,
   "id": "5dbc20e6-604e-43cd-bd29-aa2b2e6fa9e2",
   "metadata": {},
   "outputs": [
    {
     "data": {
      "text/plain": [
       "array([[ 9,  1,  0,  0,  0],\n",
       "       [ 1,  1,  0,  0,  0],\n",
       "       [ 3,  3, 10,  0,  0],\n",
       "       [ 2, 11,  2,  1,  2],\n",
       "       [12, 13,  4,  5,  0],\n",
       "       [ 6,  6,  0,  0,  0],\n",
       "       [ 7,  7,  0,  0,  0],\n",
       "       [ 8,  8,  0,  0,  0],\n",
       "       [14, 15,  4,  5,  0],\n",
       "       [16, 17,  0,  0,  0]])"
      ]
     },
     "execution_count": 139,
     "metadata": {},
     "output_type": "execute_result"
    }
   ],
   "source": [
    "from keras.utils import pad_sequences\n",
    "sequences = pad_sequences(sequences,padding='post')\n",
    "sequences"
   ]
  },
  {
   "cell_type": "code",
   "execution_count": 140,
   "id": "d74908cd-6d6d-46d2-b7e7-4d54a0e265c4",
   "metadata": {},
   "outputs": [
    {
     "name": "stdout",
     "output_type": "stream",
     "text": [
      "Model: \"sequential_16\"\n",
      "_________________________________________________________________\n",
      " Layer (type)                Output Shape              Param #   \n",
      "=================================================================\n",
      " embedding_16 (Embedding)    (None, 5, 2)              36        \n",
      "                                                                 \n",
      "=================================================================\n",
      "Total params: 36 (144.00 Byte)\n",
      "Trainable params: 36 (144.00 Byte)\n",
      "Non-trainable params: 0 (0.00 Byte)\n",
      "_________________________________________________________________\n"
     ]
    }
   ],
   "source": [
    "from keras.models import Sequential\n",
    "from keras.layers import Embedding\n",
    "model = Sequential()\n",
    "model.add(Embedding(18,output_dim=2,input_length=5))\n",
    "\n",
    "model.summary()"
   ]
  },
  {
   "cell_type": "code",
   "execution_count": 141,
   "id": "e1dccb36-0f97-4622-ba56-9dc8d65c44b8",
   "metadata": {},
   "outputs": [],
   "source": [
    "model.compile(optimizer='adam', loss='binary_crossentropy', metrics=['accuracy'])\n"
   ]
  },
  {
   "cell_type": "code",
   "execution_count": 142,
   "id": "63e18918-bd78-41a0-8897-09d165b48d6a",
   "metadata": {},
   "outputs": [
    {
     "name": "stdout",
     "output_type": "stream",
     "text": [
      "1/1 [==============================] - 0s 34ms/step\n",
      "[[[-0.03594303 -0.00098633]\n",
      "  [ 0.02374761 -0.03208984]\n",
      "  [ 0.03715226  0.02700952]\n",
      "  [ 0.03715226  0.02700952]\n",
      "  [ 0.03715226  0.02700952]]\n",
      "\n",
      " [[ 0.02374761 -0.03208984]\n",
      "  [ 0.02374761 -0.03208984]\n",
      "  [ 0.03715226  0.02700952]\n",
      "  [ 0.03715226  0.02700952]\n",
      "  [ 0.03715226  0.02700952]]\n",
      "\n",
      " [[-0.04861679  0.00767868]\n",
      "  [-0.04861679  0.00767868]\n",
      "  [-0.02501873 -0.01232269]\n",
      "  [ 0.03715226  0.02700952]\n",
      "  [ 0.03715226  0.02700952]]\n",
      "\n",
      " [[ 0.02543957 -0.0302109 ]\n",
      "  [-0.01553738  0.0406327 ]\n",
      "  [ 0.02543957 -0.0302109 ]\n",
      "  [ 0.02374761 -0.03208984]\n",
      "  [ 0.02543957 -0.0302109 ]]\n",
      "\n",
      " [[-0.03307714  0.03936255]\n",
      "  [-0.02565287 -0.03450803]\n",
      "  [-0.02135127 -0.03150751]\n",
      "  [ 0.00673205  0.01539384]\n",
      "  [ 0.03715226  0.02700952]]\n",
      "\n",
      " [[ 0.00919504 -0.04708469]\n",
      "  [ 0.00919504 -0.04708469]\n",
      "  [ 0.03715226  0.02700952]\n",
      "  [ 0.03715226  0.02700952]\n",
      "  [ 0.03715226  0.02700952]]\n",
      "\n",
      " [[-0.00773983  0.02821039]\n",
      "  [-0.00773983  0.02821039]\n",
      "  [ 0.03715226  0.02700952]\n",
      "  [ 0.03715226  0.02700952]\n",
      "  [ 0.03715226  0.02700952]]\n",
      "\n",
      " [[ 0.04406262  0.02157542]\n",
      "  [ 0.04406262  0.02157542]\n",
      "  [ 0.03715226  0.02700952]\n",
      "  [ 0.03715226  0.02700952]\n",
      "  [ 0.03715226  0.02700952]]\n",
      "\n",
      " [[ 0.04527824 -0.03471338]\n",
      "  [ 0.03089633 -0.00563425]\n",
      "  [-0.02135127 -0.03150751]\n",
      "  [ 0.00673205  0.01539384]\n",
      "  [ 0.03715226  0.02700952]]\n",
      "\n",
      " [[-0.00094874 -0.03755238]\n",
      "  [-0.03105255 -0.04532095]\n",
      "  [ 0.03715226  0.02700952]\n",
      "  [ 0.03715226  0.02700952]\n",
      "  [ 0.03715226  0.02700952]]]\n"
     ]
    }
   ],
   "source": [
    "pred = model.predict(sequences)\n",
    "print(pred)"
   ]
  },
  {
   "cell_type": "code",
   "execution_count": 143,
   "id": "d28e4ef9-8803-4978-9040-9fbbb345e5c9",
   "metadata": {},
   "outputs": [],
   "source": [
    "from keras.datasets import imdb\n",
    "from keras.preprocessing.text import Tokenizer\n",
    "from keras.utils import pad_sequences\n",
    "from keras.models import Sequential\n",
    "from keras.layers import Dense,SimpleRNN,Embedding,Flatten"
   ]
  },
  {
   "cell_type": "code",
   "execution_count": 144,
   "id": "db57ff97-1ab5-4300-b20b-b2a701aef36f",
   "metadata": {},
   "outputs": [],
   "source": [
    "(X_train,y_train),(X_test,y_test) = imdb.load_data()"
   ]
  },
  {
   "cell_type": "code",
   "execution_count": 145,
   "id": "5eee404d-7d2c-4374-9b9c-a54cd5bba12b",
   "metadata": {},
   "outputs": [],
   "source": [
    "X_train = pad_sequences(X_train,padding='post',maxlen=50)\n",
    "X_test = pad_sequences(X_test,padding='post',maxlen=50)"
   ]
  },
  {
   "cell_type": "code",
   "execution_count": 146,
   "id": "6ff7dcc9-f201-4373-ade3-bab237aac813",
   "metadata": {},
   "outputs": [
    {
     "data": {
      "text/plain": [
       "(25000, 50)"
      ]
     },
     "execution_count": 146,
     "metadata": {},
     "output_type": "execute_result"
    }
   ],
   "source": [
    "X_train.shape"
   ]
  },
  {
   "cell_type": "code",
   "execution_count": 147,
   "id": "a8d38562-b821-4909-bc37-82a5bb82b6d4",
   "metadata": {},
   "outputs": [
    {
     "name": "stdout",
     "output_type": "stream",
     "text": [
      "Model: \"sequential_17\"\n",
      "_________________________________________________________________\n",
      " Layer (type)                Output Shape              Param #   \n",
      "=================================================================\n",
      " embedding_17 (Embedding)    (None, 50, 2)             32000     \n",
      "                                                                 \n",
      " simple_rnn_6 (SimpleRNN)    (None, 32)                1120      \n",
      "                                                                 \n",
      " dense_6 (Dense)             (None, 1)                 33        \n",
      "                                                                 \n",
      "=================================================================\n",
      "Total params: 33153 (129.50 KB)\n",
      "Trainable params: 33153 (129.50 KB)\n",
      "Non-trainable params: 0 (0.00 Byte)\n",
      "_________________________________________________________________\n"
     ]
    }
   ],
   "source": [
    "model = Sequential()\n",
    "model.add(Embedding(input_dim=16000, output_dim=2, input_length=50))\n",
    "model.add(SimpleRNN(32,return_sequences=False))\n",
    "model.add(Dense(1, activation='sigmoid'))\n",
    "\n",
    "model.summary()"
   ]
  },
  {
   "cell_type": "code",
   "execution_count": 148,
   "id": "53d9fcc8-c234-47e4-822c-67a074dd694a",
   "metadata": {},
   "outputs": [
    {
     "name": "stdout",
     "output_type": "stream",
     "text": [
      "Max value in X_train: 88585\n",
      "Max value in X_test: 88582\n",
      "⚠️ WARNING: Found token index 88585 >= 10000. You should increase input_dim in Embedding layer.\n"
     ]
    }
   ],
   "source": [
    "import numpy as np\n",
    "print(\"Max value in X_train:\", np.max(X_train))\n",
    "print(\"Max value in X_test:\", np.max(X_test))\n",
    "\n",
    "# Automatically set input_dim for Embedding if needed\n",
    "max_token_index = max(np.max(X_train), np.max(X_test))\n",
    "if max_token_index >= 10000:\n",
    "    print(f\"⚠️ WARNING: Found token index {max_token_index} >= 10000. You should increase input_dim in Embedding layer.\")\n",
    "    # Optionally clip instead of changing model\n",
    "    X_train = np.clip(X_train, 0, 9999)\n",
    "    X_test = np.clip(X_test, 0, 9999)"
   ]
  },
  {
   "cell_type": "code",
   "execution_count": null,
   "id": "faf59866-36f7-43af-b424-c691c900354c",
   "metadata": {},
   "outputs": [
    {
     "name": "stdout",
     "output_type": "stream",
     "text": [
      "Epoch 1/10\n",
      "782/782 [==============================] - 8s 8ms/step - loss: 0.6464 - accuracy: 0.5924 - val_loss: 0.5191 - val_accuracy: 0.7528\n",
      "Epoch 2/10\n",
      "782/782 [==============================] - 6s 8ms/step - loss: 0.4145 - accuracy: 0.8135 - val_loss: 0.4249 - val_accuracy: 0.8060\n",
      "Epoch 3/10\n",
      "782/782 [==============================] - 6s 8ms/step - loss: 0.3339 - accuracy: 0.8621 - val_loss: 0.4355 - val_accuracy: 0.8063\n",
      "Epoch 4/10\n",
      "782/782 [==============================] - 6s 8ms/step - loss: 0.2879 - accuracy: 0.8839 - val_loss: 0.4584 - val_accuracy: 0.8028\n",
      "Epoch 5/10\n",
      "782/782 [==============================] - 6s 8ms/step - loss: 0.2528 - accuracy: 0.9016 - val_loss: 0.4753 - val_accuracy: 0.7977\n",
      "Epoch 6/10\n",
      "782/782 [==============================] - 6s 8ms/step - loss: 0.2233 - accuracy: 0.9168 - val_loss: 0.4940 - val_accuracy: 0.7936\n",
      "Epoch 7/10\n",
      "782/782 [==============================] - 6s 8ms/step - loss: 0.1975 - accuracy: 0.9268 - val_loss: 0.5387 - val_accuracy: 0.7894\n",
      "Epoch 8/10\n",
      "782/782 [==============================] - 6s 8ms/step - loss: 0.1735 - accuracy: 0.9360 - val_loss: 0.6244 - val_accuracy: 0.7770\n",
      "Epoch 9/10\n",
      "781/782 [============================>.] - ETA: 0s - loss: 0.1536 - accuracy: 0.9466"
     ]
    }
   ],
   "source": [
    "model.compile(optimizer='adam', loss='binary_crossentropy', metrics=['accuracy'])\n",
    "\n",
    "model.fit(X_train, y_train, validation_data=(X_test, y_test), epochs=10)"
   ]
  },
  {
   "cell_type": "code",
   "execution_count": null,
   "id": "902cc6da-5c14-4f41-a669-383527de5628",
   "metadata": {},
   "outputs": [],
   "source": []
  }
 ],
 "metadata": {
  "kernelspec": {
   "display_name": "Python 3 (ipykernel)",
   "language": "python",
   "name": "python3"
  },
  "language_info": {
   "codemirror_mode": {
    "name": "ipython",
    "version": 3
   },
   "file_extension": ".py",
   "mimetype": "text/x-python",
   "name": "python",
   "nbconvert_exporter": "python",
   "pygments_lexer": "ipython3",
   "version": "3.11.7"
  }
 },
 "nbformat": 4,
 "nbformat_minor": 5
}
